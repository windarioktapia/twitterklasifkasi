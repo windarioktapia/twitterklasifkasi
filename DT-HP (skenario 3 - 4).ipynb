{
 "cells": [
  {
   "cell_type": "code",
   "execution_count": 1,
   "id": "731b7ea1",
   "metadata": {},
   "outputs": [],
   "source": [
    "import pandas as pd \n",
    "import numpy as np \n",
    "import nltk \n",
    "import re\n",
    "import string\n",
    "import matplotlib.pyplot as plt\n",
    "\n",
    "from sklearn.feature_extraction.text import CountVectorizer\n",
    "from sklearn.model_selection import train_test_split, cross_val_score, cross_validate\n",
    "from sklearn.tree import DecisionTreeClassifier\n",
    "from sklearn.metrics import confusion_matrix \n",
    "from sklearn.metrics import accuracy_score\n",
    "from sklearn.metrics import precision_score,recall_score,f1_score\n",
    "from sklearn.metrics import classification_report\n",
    "from sklearn import metrics\n",
    "from sklearn.model_selection import GridSearchCV\n",
    "\n",
    "from sklearn import tree\n",
    "\n",
    "from imblearn.over_sampling import SMOTE\n",
    "from collections import Counter"
   ]
  },
  {
   "cell_type": "code",
   "execution_count": 2,
   "id": "91177414",
   "metadata": {},
   "outputs": [],
   "source": [
    "import seaborn as sns\n",
    "import matplotlib.pyplot as plt\n",
    "import collections, numpy"
   ]
  },
  {
   "cell_type": "code",
   "execution_count": 3,
   "id": "ff9cab19",
   "metadata": {},
   "outputs": [],
   "source": [
    "df= pd.read_csv('Twitter_Emotion_Dataset.csv') "
   ]
  },
  {
   "cell_type": "code",
   "execution_count": 4,
   "id": "1edcc6c8",
   "metadata": {},
   "outputs": [
    {
     "name": "stdout",
     "output_type": "stream",
     "text": [
      "Missing dataset value in all :  False\n"
     ]
    }
   ],
   "source": [
    "print(\"Missing dataset value in all : \",df.isnull().values.any())"
   ]
  },
  {
   "cell_type": "code",
   "execution_count": 5,
   "id": "f819307d",
   "metadata": {},
   "outputs": [
    {
     "data": {
      "text/html": [
       "<div>\n",
       "<style scoped>\n",
       "    .dataframe tbody tr th:only-of-type {\n",
       "        vertical-align: middle;\n",
       "    }\n",
       "\n",
       "    .dataframe tbody tr th {\n",
       "        vertical-align: top;\n",
       "    }\n",
       "\n",
       "    .dataframe thead th {\n",
       "        text-align: right;\n",
       "    }\n",
       "</style>\n",
       "<table border=\"1\" class=\"dataframe\">\n",
       "  <thead>\n",
       "    <tr style=\"text-align: right;\">\n",
       "      <th></th>\n",
       "      <th>label</th>\n",
       "      <th>tweet</th>\n",
       "    </tr>\n",
       "  </thead>\n",
       "  <tbody>\n",
       "    <tr>\n",
       "      <th>0</th>\n",
       "      <td>anger</td>\n",
       "      <td>Soal jln Jatibaru,polisi tdk bs GERTAK gubernu...</td>\n",
       "    </tr>\n",
       "    <tr>\n",
       "      <th>1</th>\n",
       "      <td>anger</td>\n",
       "      <td>Sesama cewe lho (kayaknya), harusnya bisa lebi...</td>\n",
       "    </tr>\n",
       "    <tr>\n",
       "      <th>2</th>\n",
       "      <td>happy</td>\n",
       "      <td>Kepingin gudeg mbarek Bu hj. Amad Foto dari go...</td>\n",
       "    </tr>\n",
       "    <tr>\n",
       "      <th>3</th>\n",
       "      <td>anger</td>\n",
       "      <td>Jln Jatibaru,bagian dari wilayah Tn Abang.Peng...</td>\n",
       "    </tr>\n",
       "    <tr>\n",
       "      <th>4</th>\n",
       "      <td>happy</td>\n",
       "      <td>Sharing pengalaman aja, kemarin jam 18.00 bata...</td>\n",
       "    </tr>\n",
       "  </tbody>\n",
       "</table>\n",
       "</div>"
      ],
      "text/plain": [
       "   label                                              tweet\n",
       "0  anger  Soal jln Jatibaru,polisi tdk bs GERTAK gubernu...\n",
       "1  anger  Sesama cewe lho (kayaknya), harusnya bisa lebi...\n",
       "2  happy  Kepingin gudeg mbarek Bu hj. Amad Foto dari go...\n",
       "3  anger  Jln Jatibaru,bagian dari wilayah Tn Abang.Peng...\n",
       "4  happy  Sharing pengalaman aja, kemarin jam 18.00 bata..."
      ]
     },
     "execution_count": 5,
     "metadata": {},
     "output_type": "execute_result"
    }
   ],
   "source": [
    "df.head()"
   ]
  },
  {
   "cell_type": "code",
   "execution_count": 6,
   "id": "3e4092f1",
   "metadata": {},
   "outputs": [
    {
     "data": {
      "text/plain": [
       "(4401, 2)"
      ]
     },
     "execution_count": 6,
     "metadata": {},
     "output_type": "execute_result"
    }
   ],
   "source": [
    "df.shape"
   ]
  },
  {
   "cell_type": "code",
   "execution_count": 7,
   "id": "0e2c8aa4",
   "metadata": {},
   "outputs": [
    {
     "name": "stdout",
     "output_type": "stream",
     "text": [
      "Jumlah kolom pada dataset:   2\n",
      "Jumlah baris pada dataset:   4401\n"
     ]
    }
   ],
   "source": [
    "print('Jumlah kolom pada dataset:  ', len(df.columns))\n",
    "print('Jumlah baris pada dataset:  ', len(df))"
   ]
  },
  {
   "cell_type": "code",
   "execution_count": 8,
   "id": "91a99e76",
   "metadata": {},
   "outputs": [
    {
     "name": "stderr",
     "output_type": "stream",
     "text": [
      "C:\\anaconda\\lib\\site-packages\\seaborn\\_decorators.py:36: FutureWarning: Pass the following variable as a keyword arg: x. From version 0.12, the only valid positional argument will be `data`, and passing other arguments without an explicit keyword will result in an error or misinterpretation.\n",
      "  warnings.warn(\n"
     ]
    },
    {
     "data": {
      "image/png": "[encoded data removed]",
      "text/plain": [
       "<Figure size 432x288 with 1 Axes>"
      ]
     },
     "metadata": {
      "needs_background": "light"
     },
     "output_type": "display_data"
    }
   ],
   "source": [
    "sns.countplot(df['label'],label=\"Count\") #Grafik pada kolom label\n",
    "plt.show() "
   ]
  },
  {
   "cell_type": "code",
   "execution_count": 9,
   "id": "781ff815",
   "metadata": {},
   "outputs": [
    {
     "data": {
      "text/plain": [
       "Counter({'anger': 1101,\n",
       "         'happy': 1017,\n",
       "         'sadness': 997,\n",
       "         'love': 637,\n",
       "         'fear': 649})"
      ]
     },
     "execution_count": 9,
     "metadata": {},
     "output_type": "execute_result"
    }
   ],
   "source": [
    "collections.Counter(df['label'])"
   ]
  },
  {
   "cell_type": "code",
   "execution_count": 10,
   "id": "965ca3ca",
   "metadata": {},
   "outputs": [],
   "source": [
    "def case_folding(tweet):  \n",
    "    tweet = tweet.lower()\n",
    "    \n",
    "    return tweet\n",
    "df['tweet']= df['tweet'].apply(case_folding)  "
   ]
  },
  {
   "cell_type": "code",
   "execution_count": 11,
   "id": "1da6b187",
   "metadata": {},
   "outputs": [
    {
     "data": {
      "text/html": [
       "<div>\n",
       "<style scoped>\n",
       "    .dataframe tbody tr th:only-of-type {\n",
       "        vertical-align: middle;\n",
       "    }\n",
       "\n",
       "    .dataframe tbody tr th {\n",
       "        vertical-align: top;\n",
       "    }\n",
       "\n",
       "    .dataframe thead th {\n",
       "        text-align: right;\n",
       "    }\n",
       "</style>\n",
       "<table border=\"1\" class=\"dataframe\">\n",
       "  <thead>\n",
       "    <tr style=\"text-align: right;\">\n",
       "      <th></th>\n",
       "      <th>label</th>\n",
       "      <th>tweet</th>\n",
       "    </tr>\n",
       "  </thead>\n",
       "  <tbody>\n",
       "    <tr>\n",
       "      <th>0</th>\n",
       "      <td>anger</td>\n",
       "      <td>soal jln jatibaru,polisi tdk bs gertak gubernu...</td>\n",
       "    </tr>\n",
       "    <tr>\n",
       "      <th>1</th>\n",
       "      <td>anger</td>\n",
       "      <td>sesama cewe lho (kayaknya), harusnya bisa lebi...</td>\n",
       "    </tr>\n",
       "    <tr>\n",
       "      <th>2</th>\n",
       "      <td>happy</td>\n",
       "      <td>kepingin gudeg mbarek bu hj. amad foto dari go...</td>\n",
       "    </tr>\n",
       "    <tr>\n",
       "      <th>3</th>\n",
       "      <td>anger</td>\n",
       "      <td>jln jatibaru,bagian dari wilayah tn abang.peng...</td>\n",
       "    </tr>\n",
       "    <tr>\n",
       "      <th>4</th>\n",
       "      <td>happy</td>\n",
       "      <td>sharing pengalaman aja, kemarin jam 18.00 bata...</td>\n",
       "    </tr>\n",
       "  </tbody>\n",
       "</table>\n",
       "</div>"
      ],
      "text/plain": [
       "   label                                              tweet\n",
       "0  anger  soal jln jatibaru,polisi tdk bs gertak gubernu...\n",
       "1  anger  sesama cewe lho (kayaknya), harusnya bisa lebi...\n",
       "2  happy  kepingin gudeg mbarek bu hj. amad foto dari go...\n",
       "3  anger  jln jatibaru,bagian dari wilayah tn abang.peng...\n",
       "4  happy  sharing pengalaman aja, kemarin jam 18.00 bata..."
      ]
     },
     "execution_count": 11,
     "metadata": {},
     "output_type": "execute_result"
    }
   ],
   "source": [
    "df.head()"
   ]
  },
  {
   "cell_type": "code",
   "execution_count": 12,
   "id": "6ff717f0",
   "metadata": {},
   "outputs": [
    {
     "data": {
      "text/plain": [
       "'ga pernah dipaksa sih buat berkerudung. tapi dari sd udah keinginan sendiri juga. tapi sayang kata mama, waktu itu kelas 4, bentar lagi lulus drpd beli baju lagi.'"
      ]
     },
     "execution_count": 12,
     "metadata": {},
     "output_type": "execute_result"
    }
   ],
   "source": [
    "df['tweet'][2489]"
   ]
  },
  {
   "cell_type": "code",
   "execution_count": 13,
   "id": "a8c578af",
   "metadata": {},
   "outputs": [],
   "source": [
    "def clean_tweet(tweet):\n",
    "    \n",
    "    # remove special characters \n",
    "    tweet = re.sub('[^ a-zA-Z0-9]', ' ', tweet)\n",
    "    \n",
    "    # remove number\n",
    "    tweet = re.sub(r'[0-9]+', '', tweet)\n",
    "    \n",
    "    #remove url \n",
    "    tweet = re.sub(\"url\", \"\", tweet)\n",
    "    \n",
    "    #remove username \n",
    "    tweet = re.sub('username', '', tweet)\n",
    "    \n",
    "    #remove sensitiveno\n",
    "    tweet = re.sub('sensitiveno', '', tweet)\n",
    "    \n",
    "    #remove URL \n",
    "    tweet = re.sub(\"https\", \"\", tweet)\n",
    "    \n",
    "    # remove askfm\n",
    "    tweet = re.sub('askfm', '', tweet)\n",
    "    \n",
    "    #remove double spasi\n",
    "    tweet= \" \".join(tweet.split())    \n",
    "    return tweet\n",
    "df['tweet']= df['tweet'].apply(clean_tweet)"
   ]
  },
  {
   "cell_type": "code",
   "execution_count": 14,
   "id": "27a745a6",
   "metadata": {},
   "outputs": [
    {
     "data": {
      "text/plain": [
       "'ga pernah dipaksa sih buat berkerudung tapi dari sd udah keinginan sendiri juga tapi sayang kata mama waktu itu kelas bentar lagi lulus drpd beli baju lagi'"
      ]
     },
     "execution_count": 14,
     "metadata": {},
     "output_type": "execute_result"
    }
   ],
   "source": [
    "df['tweet'][2489]"
   ]
  },
  {
   "cell_type": "code",
   "execution_count": 15,
   "id": "4f111fb1",
   "metadata": {},
   "outputs": [],
   "source": [
    "key_norm = pd.read_csv('kamus_normalisasi.csv')\n",
    "\n",
    "def normalisasi(tweet):\n",
    "    tweet = ' '.join([key_norm[key_norm['singkat'] == word]['hasil'].values[0] \n",
    "                      if (key_norm[\"singkat\"] == word).any() else word for word in tweet.split()])\n",
    "    return tweet\n",
    "df['tweet']= df['tweet'].apply(normalisasi)"
   ]
  },
  {
   "cell_type": "raw",
   "id": "73128d18",
   "metadata": {},
   "source": [
    "df.to_csv(\"C:/Users/HP/TUGAS/cleanning.csv\")"
   ]
  },
  {
   "cell_type": "raw",
   "id": "3c499d5e",
   "metadata": {},
   "source": [
    "df.to_csv(\"C:/Users/HP/TUGAS/fix.csv\")"
   ]
  },
  {
   "cell_type": "code",
   "execution_count": 16,
   "id": "9bf4c0e5",
   "metadata": {},
   "outputs": [
    {
     "data": {
      "text/plain": [
       "'tidak pernah dipaksa sih buat berkerudung tapi dari sd sudah keinginan sendiri juga tapi sayang kata mama waktu itu kelas bentar lagi lulus daripada beli baju lagi'"
      ]
     },
     "execution_count": 16,
     "metadata": {},
     "output_type": "execute_result"
    }
   ],
   "source": [
    "df['tweet'][2489]"
   ]
  },
  {
   "cell_type": "code",
   "execution_count": 17,
   "id": "dcd22abb",
   "metadata": {},
   "outputs": [],
   "source": [
    "text = df['tweet'].values\n",
    "y = df['label'].values"
   ]
  },
  {
   "cell_type": "code",
   "execution_count": 18,
   "id": "96aad8a1",
   "metadata": {},
   "outputs": [
    {
     "data": {
      "text/plain": [
       "(4401,)"
      ]
     },
     "execution_count": 18,
     "metadata": {},
     "output_type": "execute_result"
    }
   ],
   "source": [
    "text.shape"
   ]
  },
  {
   "cell_type": "markdown",
   "id": "29406edf",
   "metadata": {},
   "source": [
    "# Bag of Word"
   ]
  },
  {
   "cell_type": "code",
   "execution_count": 19,
   "id": "81a3b424",
   "metadata": {},
   "outputs": [],
   "source": [
    "# bag of words\n",
    "bow = CountVectorizer()\n",
    "X_bow = bow.fit_transform(text)"
   ]
  },
  {
   "cell_type": "code",
   "execution_count": 20,
   "id": "647ef6b7",
   "metadata": {},
   "outputs": [],
   "source": [
    "X_train_bow,X_test_bow,y_train_bow,y_test_bow= train_test_split(X_bow, y,test_size=0.1,random_state=0,stratify=y)"
   ]
  },
  {
   "cell_type": "code",
   "execution_count": 21,
   "id": "40192734",
   "metadata": {},
   "outputs": [
    {
     "name": "stdout",
     "output_type": "stream",
     "text": [
      "Jumlah Counter({'anger': 991, 'happy': 915, 'sadness': 897, 'fear': 584, 'love': 573})\n"
     ]
    }
   ],
   "source": [
    "counter = Counter(y_train_bow)\n",
    "print('Jumlah',counter)"
   ]
  },
  {
   "cell_type": "code",
   "execution_count": 22,
   "id": "3532add9",
   "metadata": {},
   "outputs": [
    {
     "name": "stdout",
     "output_type": "stream",
     "text": [
      "Jumlah Counter({'anger': 110, 'happy': 102, 'sadness': 100, 'fear': 65, 'love': 64})\n"
     ]
    }
   ],
   "source": [
    "counter = Counter(y_test_bow)\n",
    "print('Jumlah',counter)"
   ]
  },
  {
   "cell_type": "code",
   "execution_count": 23,
   "id": "55e472de",
   "metadata": {},
   "outputs": [
    {
     "name": "stdout",
     "output_type": "stream",
     "text": [
      "(3960, 17063)\n",
      "(441, 17063)\n",
      "(3960,)\n",
      "(441,)\n"
     ]
    }
   ],
   "source": [
    "print(X_train_bow.shape)\n",
    "print(X_test_bow.shape)\n",
    "print(y_train_bow.shape)\n",
    "print(y_test_bow.shape)"
   ]
  },
  {
   "cell_type": "code",
   "execution_count": 112,
   "id": "02d3c64b",
   "metadata": {},
   "outputs": [
    {
     "name": "stdout",
     "output_type": "stream",
     "text": [
      "The best hyper parameters are: \n",
      " {'max_depth': 100, 'min_samples_leaf': 15}\n"
     ]
    }
   ],
   "source": [
    "#Decision Tree dengan bag of word \n",
    "params = {\n",
    "            'max_depth': list(range(100, 120)),\n",
    "            'min_samples_leaf' : list(range(11,20))\n",
    "         }\n",
    "grid_search_cv = GridSearchCV(DecisionTreeClassifier(random_state=0),params, cv= 10,n_jobs= -1)\n",
    "\n",
    "grid_search_cv.fit(X_train_bow, y_train_bow)\n",
    "\n",
    "#Printing the best hyperparameters\n",
    "print('The best hyper parameters are: \\n',grid_search_cv.best_params_)"
   ]
  },
  {
   "cell_type": "markdown",
   "id": "9a272cbd",
   "metadata": {},
   "source": [
    "# Decision Tree"
   ]
  },
  {
   "cell_type": "code",
   "execution_count": 24,
   "id": "16e55f78",
   "metadata": {
    "scrolled": true
   },
   "outputs": [
    {
     "data": {
      "text/html": [
       "<style>#sk-container-id-1 {color: black;background-color: white;}#sk-container-id-1 pre{padding: 0;}#sk-container-id-1 div.sk-toggleable {background-color: white;}#sk-container-id-1 label.sk-toggleable__label {cursor: pointer;display: block;width: 100%;margin-bottom: 0;padding: 0.3em;box-sizing: border-box;text-align: center;}#sk-container-id-1 label.sk-toggleable__label-arrow:before {content: \"▸\";float: left;margin-right: 0.25em;color: #696969;}#sk-container-id-1 label.sk-toggleable__label-arrow:hover:before {color: black;}#sk-container-id-1 div.sk-estimator:hover label.sk-toggleable__label-arrow:before {color: black;}#sk-container-id-1 div.sk-toggleable__content {max-height: 0;max-width: 0;overflow: hidden;text-align: left;background-color: #f0f8ff;}#sk-container-id-1 div.sk-toggleable__content pre {margin: 0.2em;color: black;border-radius: 0.25em;background-color: #f0f8ff;}#sk-container-id-1 input.sk-toggleable__control:checked~div.sk-toggleable__content {max-height: 200px;max-width: 100%;overflow: auto;}#sk-container-id-1 input.sk-toggleable__control:checked~label.sk-toggleable__label-arrow:before {content: \"▾\";}#sk-container-id-1 div.sk-estimator input.sk-toggleable__control:checked~label.sk-toggleable__label {background-color: #d4ebff;}#sk-container-id-1 div.sk-label input.sk-toggleable__control:checked~label.sk-toggleable__label {background-color: #d4ebff;}#sk-container-id-1 input.sk-hidden--visually {border: 0;clip: rect(1px 1px 1px 1px);clip: rect(1px, 1px, 1px, 1px);height: 1px;margin: -1px;overflow: hidden;padding: 0;position: absolute;width: 1px;}#sk-container-id-1 div.sk-estimator {font-family: monospace;background-color: #f0f8ff;border: 1px dotted black;border-radius: 0.25em;box-sizing: border-box;margin-bottom: 0.5em;}#sk-container-id-1 div.sk-estimator:hover {background-color: #d4ebff;}#sk-container-id-1 div.sk-parallel-item::after {content: \"\";width: 100%;border-bottom: 1px solid gray;flex-grow: 1;}#sk-container-id-1 div.sk-label:hover label.sk-toggleable__label {background-color: #d4ebff;}#sk-container-id-1 div.sk-serial::before {content: \"\";position: absolute;border-left: 1px solid gray;box-sizing: border-box;top: 0;bottom: 0;left: 50%;z-index: 0;}#sk-container-id-1 div.sk-serial {display: flex;flex-direction: column;align-items: center;background-color: white;padding-right: 0.2em;padding-left: 0.2em;position: relative;}#sk-container-id-1 div.sk-item {position: relative;z-index: 1;}#sk-container-id-1 div.sk-parallel {display: flex;align-items: stretch;justify-content: center;background-color: white;position: relative;}#sk-container-id-1 div.sk-item::before, #sk-container-id-1 div.sk-parallel-item::before {content: \"\";position: absolute;border-left: 1px solid gray;box-sizing: border-box;top: 0;bottom: 0;left: 50%;z-index: -1;}#sk-container-id-1 div.sk-parallel-item {display: flex;flex-direction: column;z-index: 1;position: relative;background-color: white;}#sk-container-id-1 div.sk-parallel-item:first-child::after {align-self: flex-end;width: 50%;}#sk-container-id-1 div.sk-parallel-item:last-child::after {align-self: flex-start;width: 50%;}#sk-container-id-1 div.sk-parallel-item:only-child::after {width: 0;}#sk-container-id-1 div.sk-dashed-wrapped {border: 1px dashed gray;margin: 0 0.4em 0.5em 0.4em;box-sizing: border-box;padding-bottom: 0.4em;background-color: white;}#sk-container-id-1 div.sk-label label {font-family: monospace;font-weight: bold;display: inline-block;line-height: 1.2em;}#sk-container-id-1 div.sk-label-container {text-align: center;}#sk-container-id-1 div.sk-container {/* jupyter's `normalize.less` sets `[hidden] { display: none; }` but bootstrap.min.css set `[hidden] { display: none !important; }` so we also need the `!important` here to be able to override the default hidden behavior on the sphinx rendered scikit-learn.org. See: https://github.com/scikit-learn/scikit-learn/issues/21755 */display: inline-block !important;position: relative;}#sk-container-id-1 div.sk-text-repr-fallback {display: none;}</style><div id=\"sk-container-id-1\" class=\"sk-top-container\"><div class=\"sk-text-repr-fallback\"><pre>DecisionTreeClassifier(max_depth=100, min_samples_leaf=15, random_state=0)</pre><b>In a Jupyter environment, please rerun this cell to show the HTML representation or trust the notebook. <br />On GitHub, the HTML representation is unable to render, please try loading this page with nbviewer.org.</b></div><div class=\"sk-container\" hidden><div class=\"sk-item\"><div class=\"sk-estimator sk-toggleable\"><input class=\"sk-toggleable__control sk-hidden--visually\" id=\"sk-estimator-id-1\" type=\"checkbox\" checked><label for=\"sk-estimator-id-1\" class=\"sk-toggleable__label sk-toggleable__label-arrow\">DecisionTreeClassifier</label><div class=\"sk-toggleable__content\"><pre>DecisionTreeClassifier(max_depth=100, min_samples_leaf=15, random_state=0)</pre></div></div></div></div></div>"
      ],
      "text/plain": [
       "DecisionTreeClassifier(max_depth=100, min_samples_leaf=15, random_state=0)"
      ]
     },
     "execution_count": 24,
     "metadata": {},
     "output_type": "execute_result"
    }
   ],
   "source": [
    "DT3 = DecisionTreeClassifier(random_state=0, max_depth= 100, min_samples_leaf=15)\n",
    "DT3.fit(X_train_bow, y_train_bow) "
   ]
  },
  {
   "cell_type": "code",
   "execution_count": 25,
   "id": "a2e54017",
   "metadata": {},
   "outputs": [
    {
     "name": "stdout",
     "output_type": "stream",
     "text": [
      "Decision Tree (BOW) KFold Train Accuracy 0.5272727272727272\n"
     ]
    }
   ],
   "source": [
    "# Pengujian data train dengan 10-Fold CV\n",
    "scores = cross_val_score(DT3,X_train_bow, y_train_bow, cv=10)\n",
    "print(\"Decision Tree (BOW) KFold Train Accuracy\",scores.mean())"
   ]
  },
  {
   "cell_type": "code",
   "execution_count": 41,
   "id": "4c1167a9",
   "metadata": {},
   "outputs": [
    {
     "name": "stdout",
     "output_type": "stream",
     "text": [
      "training\n",
      " 0.5273\n",
      " 0.5751\n",
      " 0.5488\n",
      " 0.5554\n"
     ]
    }
   ],
   "source": [
    "# Evaluasi training tiap skenario dengan 10-Fold CV\n",
    "scoring = ['accuracy','precision_macro','recall_macro','f1_macro']\n",
    "score1 = cross_validate(DT3, X_train_bow, y_train_bow, cv=10, scoring=scoring)\n",
    "print(\"training\")\n",
    "print(\" %0.4f\"% score1['test_accuracy'].mean())\n",
    "print(\" %0.4f\"% score1['test_precision_macro'].mean())\n",
    "print(\" %0.4f\"% score1['test_recall_macro'].mean())\n",
    "print(\" %0.4f\"% score1['test_f1_macro'].mean())"
   ]
  },
  {
   "cell_type": "code",
   "execution_count": 27,
   "id": "b49c2a1a",
   "metadata": {},
   "outputs": [
    {
     "name": "stdout",
     "output_type": "stream",
     "text": [
      "Classification: \n",
      " [[62  4 18  3 23]\n",
      " [ 8 43  6  1  7]\n",
      " [19  2 51  9 21]\n",
      " [ 5  3  9 40  7]\n",
      " [37  2 21 12 28]]\n",
      " 50.79%\n",
      " 53.93%\n",
      " 52.60%\n",
      " 53.02%\n"
     ]
    }
   ],
   "source": [
    "# Pengujian data test dengan confusion matrix \n",
    "pred3 = DT3.predict(X_test_bow)\n",
    "print(\"Classification: \\n\",confusion_matrix(y_test_bow, pred3))\n",
    "accuracy = accuracy_score(y_test_bow, pred3)\n",
    "print(' {:.2f}%'.format(accuracy * 100))\n",
    "precision = precision_score(y_test_bow, pred3, average='macro')\n",
    "print(' {:.2f}%'.format(precision * 100))\n",
    "recall = recall_score(y_test_bow, pred3, average='macro')\n",
    "print(' {:.2f}%'.format(recall * 100))\n",
    "f1 = f1_score(y_test_bow, pred3, average='macro')\n",
    "print(' {:.2f}%'.format(f1 * 100))"
   ]
  },
  {
   "cell_type": "code",
   "execution_count": 28,
   "id": "e95e5263",
   "metadata": {},
   "outputs": [
    {
     "name": "stdout",
     "output_type": "stream",
     "text": [
      "MODEL 11              : Decision Tree\n",
      "Feature Extraction    : Bag of Word\n",
      "Tuning Hyperparameter : max_depth= 100, min_samples_leaf=15\n",
      "SMOTE                 : Tidak \n",
      "Classification Report: \n",
      "               precision    recall  f1-score   support\n",
      "\n",
      "       anger       0.47      0.56      0.51       110\n",
      "        fear       0.80      0.66      0.72        65\n",
      "       happy       0.49      0.50      0.49       102\n",
      "        love       0.62      0.62      0.62        64\n",
      "     sadness       0.33      0.28      0.30       100\n",
      "\n",
      "    accuracy                           0.51       441\n",
      "   macro avg       0.54      0.53      0.53       441\n",
      "weighted avg       0.51      0.51      0.51       441\n",
      "\n"
     ]
    }
   ],
   "source": [
    "print(\"MODEL 11              : Decision Tree\")\n",
    "print(\"Feature Extraction    : Bag of Word\")\n",
    "print(\"Tuning Hyperparameter : max_depth= 100, min_samples_leaf=15\")\n",
    "print(\"SMOTE                 : Tidak \")\n",
    "print(\"Classification Report: \\n\",classification_report(y_test_bow, pred3))"
   ]
  },
  {
   "cell_type": "code",
   "execution_count": 29,
   "id": "5a070ba7",
   "metadata": {},
   "outputs": [
    {
     "data": {
      "text/plain": [
       "(5.5, -0.5)"
      ]
     },
     "execution_count": 29,
     "metadata": {},
     "output_type": "execute_result"
    },
    {
     "data": {
      "image/png": "[encoded data removed]",
      "text/plain": [
       "<Figure size 576x288 with 2 Axes>"
      ]
     },
     "metadata": {
      "needs_background": "light"
     },
     "output_type": "display_data"
    }
   ],
   "source": [
    "cm = confusion_matrix(y_test_bow, pred3)  \n",
    "index = ['anger','fear','happy','love','sadness']  \n",
    "columns = ['anger','fear','happy','love','sadness']  \n",
    "cm_df = pd.DataFrame(cm,columns,index)                      \n",
    "plt.figure(figsize=(8,4))  \n",
    "ax = sns.heatmap(cm_df, annot=True, fmt=\"g\")\n",
    "bottom, top = ax.get_ylim()\n",
    "ax.set_ylim(bottom + 0.5, top - 0.5)"
   ]
  },
  {
   "cell_type": "markdown",
   "id": "6b90ae53",
   "metadata": {},
   "source": [
    "# Bigram"
   ]
  },
  {
   "cell_type": "code",
   "execution_count": 30,
   "id": "b6a27874",
   "metadata": {},
   "outputs": [],
   "source": [
    "bigram = CountVectorizer(ngram_range=(2,2),analyzer='word') #bigram\n",
    "X_bigram = bigram.fit_transform(text)"
   ]
  },
  {
   "cell_type": "code",
   "execution_count": 31,
   "id": "2e20f0ac",
   "metadata": {},
   "outputs": [
    {
     "data": {
      "text/plain": [
       "(4401, 83519)"
      ]
     },
     "execution_count": 31,
     "metadata": {},
     "output_type": "execute_result"
    }
   ],
   "source": [
    "X_bigram.shape"
   ]
  },
  {
   "cell_type": "code",
   "execution_count": 32,
   "id": "631cd193",
   "metadata": {
    "scrolled": true
   },
   "outputs": [],
   "source": [
    "X_train_bigram,X_test_bigram,y_train_bigram,y_test_bigram= train_test_split(X_bigram, y,test_size=0.1,random_state=0,stratify=y)"
   ]
  },
  {
   "cell_type": "code",
   "execution_count": 33,
   "id": "cc75df0d",
   "metadata": {},
   "outputs": [
    {
     "name": "stdout",
     "output_type": "stream",
     "text": [
      "(3960, 83519)\n",
      "(441, 83519)\n",
      "(3960,)\n",
      "(441,)\n"
     ]
    }
   ],
   "source": [
    "print(X_train_bigram.shape)\n",
    "print(X_test_bigram.shape)\n",
    "print(y_train_bigram.shape)\n",
    "print(y_test_bigram.shape)"
   ]
  },
  {
   "cell_type": "code",
   "execution_count": 34,
   "id": "026842f6",
   "metadata": {},
   "outputs": [
    {
     "name": "stdout",
     "output_type": "stream",
     "text": [
      "Jumlah Counter({'anger': 991, 'happy': 915, 'sadness': 897, 'fear': 584, 'love': 573})\n"
     ]
    }
   ],
   "source": [
    "counter = Counter(y_train_bigram)\n",
    "print('Jumlah',counter)"
   ]
  },
  {
   "cell_type": "code",
   "execution_count": 105,
   "id": "8ccefb01",
   "metadata": {},
   "outputs": [
    {
     "name": "stdout",
     "output_type": "stream",
     "text": [
      "The best hyper parameters are: \n",
      " {'max_depth': 160, 'min_samples_leaf': 11}\n"
     ]
    }
   ],
   "source": [
    "#Decision Tree dengan bigram \n",
    "params = {\n",
    "            'max_depth': list(range(160, 170)),\n",
    "            'min_samples_leaf' : list(range(11,20))\n",
    "         }\n",
    "grid_search_cv = GridSearchCV(DecisionTreeClassifier(random_state=0), params, n_jobs=-1, cv=10)\n",
    "\n",
    "grid_search_cv.fit(X_train_bigram, y_train_bigram)\n",
    "\n",
    "#Printing the best hyperparameters\n",
    "print('The best hyper parameters are: \\n',grid_search_cv.best_params_)"
   ]
  },
  {
   "cell_type": "markdown",
   "id": "f6123f30",
   "metadata": {},
   "source": [
    "# Decision Tree"
   ]
  },
  {
   "cell_type": "code",
   "execution_count": 35,
   "id": "916cd957",
   "metadata": {},
   "outputs": [
    {
     "data": {
      "text/html": [
       "<style>#sk-container-id-2 {color: black;background-color: white;}#sk-container-id-2 pre{padding: 0;}#sk-container-id-2 div.sk-toggleable {background-color: white;}#sk-container-id-2 label.sk-toggleable__label {cursor: pointer;display: block;width: 100%;margin-bottom: 0;padding: 0.3em;box-sizing: border-box;text-align: center;}#sk-container-id-2 label.sk-toggleable__label-arrow:before {content: \"▸\";float: left;margin-right: 0.25em;color: #696969;}#sk-container-id-2 label.sk-toggleable__label-arrow:hover:before {color: black;}#sk-container-id-2 div.sk-estimator:hover label.sk-toggleable__label-arrow:before {color: black;}#sk-container-id-2 div.sk-toggleable__content {max-height: 0;max-width: 0;overflow: hidden;text-align: left;background-color: #f0f8ff;}#sk-container-id-2 div.sk-toggleable__content pre {margin: 0.2em;color: black;border-radius: 0.25em;background-color: #f0f8ff;}#sk-container-id-2 input.sk-toggleable__control:checked~div.sk-toggleable__content {max-height: 200px;max-width: 100%;overflow: auto;}#sk-container-id-2 input.sk-toggleable__control:checked~label.sk-toggleable__label-arrow:before {content: \"▾\";}#sk-container-id-2 div.sk-estimator input.sk-toggleable__control:checked~label.sk-toggleable__label {background-color: #d4ebff;}#sk-container-id-2 div.sk-label input.sk-toggleable__control:checked~label.sk-toggleable__label {background-color: #d4ebff;}#sk-container-id-2 input.sk-hidden--visually {border: 0;clip: rect(1px 1px 1px 1px);clip: rect(1px, 1px, 1px, 1px);height: 1px;margin: -1px;overflow: hidden;padding: 0;position: absolute;width: 1px;}#sk-container-id-2 div.sk-estimator {font-family: monospace;background-color: #f0f8ff;border: 1px dotted black;border-radius: 0.25em;box-sizing: border-box;margin-bottom: 0.5em;}#sk-container-id-2 div.sk-estimator:hover {background-color: #d4ebff;}#sk-container-id-2 div.sk-parallel-item::after {content: \"\";width: 100%;border-bottom: 1px solid gray;flex-grow: 1;}#sk-container-id-2 div.sk-label:hover label.sk-toggleable__label {background-color: #d4ebff;}#sk-container-id-2 div.sk-serial::before {content: \"\";position: absolute;border-left: 1px solid gray;box-sizing: border-box;top: 0;bottom: 0;left: 50%;z-index: 0;}#sk-container-id-2 div.sk-serial {display: flex;flex-direction: column;align-items: center;background-color: white;padding-right: 0.2em;padding-left: 0.2em;position: relative;}#sk-container-id-2 div.sk-item {position: relative;z-index: 1;}#sk-container-id-2 div.sk-parallel {display: flex;align-items: stretch;justify-content: center;background-color: white;position: relative;}#sk-container-id-2 div.sk-item::before, #sk-container-id-2 div.sk-parallel-item::before {content: \"\";position: absolute;border-left: 1px solid gray;box-sizing: border-box;top: 0;bottom: 0;left: 50%;z-index: -1;}#sk-container-id-2 div.sk-parallel-item {display: flex;flex-direction: column;z-index: 1;position: relative;background-color: white;}#sk-container-id-2 div.sk-parallel-item:first-child::after {align-self: flex-end;width: 50%;}#sk-container-id-2 div.sk-parallel-item:last-child::after {align-self: flex-start;width: 50%;}#sk-container-id-2 div.sk-parallel-item:only-child::after {width: 0;}#sk-container-id-2 div.sk-dashed-wrapped {border: 1px dashed gray;margin: 0 0.4em 0.5em 0.4em;box-sizing: border-box;padding-bottom: 0.4em;background-color: white;}#sk-container-id-2 div.sk-label label {font-family: monospace;font-weight: bold;display: inline-block;line-height: 1.2em;}#sk-container-id-2 div.sk-label-container {text-align: center;}#sk-container-id-2 div.sk-container {/* jupyter's `normalize.less` sets `[hidden] { display: none; }` but bootstrap.min.css set `[hidden] { display: none !important; }` so we also need the `!important` here to be able to override the default hidden behavior on the sphinx rendered scikit-learn.org. See: https://github.com/scikit-learn/scikit-learn/issues/21755 */display: inline-block !important;position: relative;}#sk-container-id-2 div.sk-text-repr-fallback {display: none;}</style><div id=\"sk-container-id-2\" class=\"sk-top-container\"><div class=\"sk-text-repr-fallback\"><pre>DecisionTreeClassifier(max_depth=160, min_samples_leaf=11, random_state=0)</pre><b>In a Jupyter environment, please rerun this cell to show the HTML representation or trust the notebook. <br />On GitHub, the HTML representation is unable to render, please try loading this page with nbviewer.org.</b></div><div class=\"sk-container\" hidden><div class=\"sk-item\"><div class=\"sk-estimator sk-toggleable\"><input class=\"sk-toggleable__control sk-hidden--visually\" id=\"sk-estimator-id-2\" type=\"checkbox\" checked><label for=\"sk-estimator-id-2\" class=\"sk-toggleable__label sk-toggleable__label-arrow\">DecisionTreeClassifier</label><div class=\"sk-toggleable__content\"><pre>DecisionTreeClassifier(max_depth=160, min_samples_leaf=11, random_state=0)</pre></div></div></div></div></div>"
      ],
      "text/plain": [
       "DecisionTreeClassifier(max_depth=160, min_samples_leaf=11, random_state=0)"
      ]
     },
     "execution_count": 35,
     "metadata": {},
     "output_type": "execute_result"
    }
   ],
   "source": [
    "DT4=DecisionTreeClassifier(max_depth=160, min_samples_leaf=11, random_state=0)\n",
    "DT4.fit(X_train_bigram, y_train_bigram) "
   ]
  },
  {
   "cell_type": "code",
   "execution_count": 36,
   "id": "4ce74665",
   "metadata": {},
   "outputs": [
    {
     "name": "stdout",
     "output_type": "stream",
     "text": [
      "Decision Tree(Bigram) KFold Train Accuracy 0.3772727272727273\n"
     ]
    }
   ],
   "source": [
    "# Evaluasi training tiap skenario dengan 10-Fold CV\n",
    "scores3 = cross_val_score(DT4,X_train_bigram, y_train_bigram, cv=10)\n",
    "print(\"Decision Tree(Bigram) KFold Train Accuracy\",scores3.mean())"
   ]
  },
  {
   "cell_type": "code",
   "execution_count": 37,
   "id": "c1cdd4bc",
   "metadata": {},
   "outputs": [
    {
     "name": "stdout",
     "output_type": "stream",
     "text": [
      "training\n",
      " 0.3773\n",
      " 0.4575\n",
      " 0.3731\n",
      " 0.3735\n"
     ]
    }
   ],
   "source": [
    "# Evaluasi training tiap skenario dengan 10-Fold CV\n",
    "scoring = ['accuracy','precision_macro','recall_macro','f1_macro']\n",
    "score2 = cross_validate(DT4, X_train_bigram, y_train_bigram, cv=10, scoring=scoring)\n",
    "print(\"training\")\n",
    "print(\" %0.4f\"% score2['test_accuracy'].mean())\n",
    "print(\" %0.4f\"% score2['test_precision_macro'].mean())\n",
    "print(\" %0.4f\"% score2['test_recall_macro'].mean())\n",
    "print(\" %0.4f\"% score2['test_f1_macro'].mean())"
   ]
  },
  {
   "cell_type": "code",
   "execution_count": 38,
   "id": "3719fb31",
   "metadata": {},
   "outputs": [
    {
     "name": "stdout",
     "output_type": "stream",
     "text": [
      " 0.3878\n",
      " 0.4727\n",
      " 0.3717\n",
      " 0.3713\n",
      "[[40  3 52  3 12]\n",
      " [17 12 25  2  9]\n",
      " [ 8  3 74  6 11]\n",
      " [ 7  0 28 24  5]\n",
      " [24  1 51  3 21]]\n"
     ]
    }
   ],
   "source": [
    "pred4 = DT4.predict(X_test_bigram) # prediksi oleh model\n",
    "print(\" %0.4f\" % accuracy_score(y_test_bigram, pred4))\n",
    "print(\" %0.4f\" % precision_score(y_test_bigram, pred4, average='macro'))\n",
    "print(\" %0.4f\" % recall_score(y_test_bigram, pred4, average='macro'))\n",
    "print(\" %0.4f\" % f1_score(y_test_bigram, pred4, average='macro'))\n",
    "print(confusion_matrix(y_test_bigram, pred4))"
   ]
  },
  {
   "cell_type": "code",
   "execution_count": 39,
   "id": "ab87ef73",
   "metadata": {},
   "outputs": [
    {
     "name": "stdout",
     "output_type": "stream",
     "text": [
      "MODEL 12              : Decision Tree\n",
      "Feature Extraction    : Bigram\n",
      "Tuning Hyperparameter : max_depth= 160, min_samples_leaf=11\n",
      "SMOTE                 : Tidak \n",
      "Classification Report: \n",
      "               precision    recall  f1-score   support\n",
      "\n",
      "       anger       0.42      0.36      0.39       110\n",
      "        fear       0.63      0.18      0.29        65\n",
      "       happy       0.32      0.73      0.45       102\n",
      "        love       0.63      0.38      0.47        64\n",
      "     sadness       0.36      0.21      0.27       100\n",
      "\n",
      "    accuracy                           0.39       441\n",
      "   macro avg       0.47      0.37      0.37       441\n",
      "weighted avg       0.45      0.39      0.37       441\n",
      "\n"
     ]
    }
   ],
   "source": [
    "print(\"MODEL 12              : Decision Tree\")\n",
    "print(\"Feature Extraction    : Bigram\")\n",
    "print(\"Tuning Hyperparameter : max_depth= 160, min_samples_leaf=11\")\n",
    "print(\"SMOTE                 : Tidak \")\n",
    "print(\"Classification Report: \\n\",classification_report(y_test_bigram, pred4))"
   ]
  },
  {
   "cell_type": "code",
   "execution_count": 42,
   "id": "d05c65f2",
   "metadata": {},
   "outputs": [
    {
     "data": {
      "text/plain": [
       "(5.5, -0.5)"
      ]
     },
     "execution_count": 42,
     "metadata": {},
     "output_type": "execute_result"
    },
    {
     "data": {
      "image/png": "[encoded data removed]",
      "text/plain": [
       "<Figure size 576x288 with 2 Axes>"
      ]
     },
     "metadata": {
      "needs_background": "light"
     },
     "output_type": "display_data"
    }
   ],
   "source": [
    "cm = confusion_matrix(y_test_bigram, pred4)  \n",
    "index = ['anger','fear','happy','love','sadness']  \n",
    "columns = ['anger','fear','happy','love','sadness']  \n",
    "cm_df = pd.DataFrame(cm,columns,index)                      \n",
    "plt.figure(figsize=(8,4))  \n",
    "ax = sns.heatmap(cm_df, annot=True, fmt=\"g\")\n",
    "bottom, top = ax.get_ylim()\n",
    "ax.set_ylim(bottom + 0.5, top - 0.5)"
   ]
  },
  {
   "cell_type": "markdown",
   "id": "e78ac696",
   "metadata": {},
   "source": [
    "# Pickle model "
   ]
  },
  {
   "cell_type": "code",
   "execution_count": 41,
   "id": "0b1fe699",
   "metadata": {},
   "outputs": [],
   "source": [
    "import joblib"
   ]
  },
  {
   "cell_type": "code",
   "execution_count": 46,
   "id": "9e7537ec",
   "metadata": {},
   "outputs": [
    {
     "data": {
      "text/plain": [
       "['model11_HP.pkl']"
      ]
     },
     "execution_count": 46,
     "metadata": {},
     "output_type": "execute_result"
    }
   ],
   "source": [
    "joblib.dump(DT3,'model11_HP.pkl')"
   ]
  },
  {
   "cell_type": "code",
   "execution_count": 47,
   "id": "c0fe7970",
   "metadata": {},
   "outputs": [
    {
     "data": {
      "text/plain": [
       "['model12_HP.pkl']"
      ]
     },
     "execution_count": 47,
     "metadata": {},
     "output_type": "execute_result"
    }
   ],
   "source": [
    "joblib.dump(DT4,'model12_HP.pkl')"
   ]
  },
  {
   "cell_type": "code",
   "execution_count": 48,
   "id": "01d96897",
   "metadata": {},
   "outputs": [
    {
     "name": "stdout",
     "output_type": "stream",
     "text": [
      "emosi ['happy']\n"
     ]
    },
    {
     "data": {
      "text/plain": [
       "array([[0.21649485, 0.03092784, 0.42268041, 0.01030928, 0.31958763]])"
      ]
     },
     "execution_count": 48,
     "metadata": {},
     "output_type": "execute_result"
    }
   ],
   "source": [
    "test_msgs = [\"hahahahaha\"]\n",
    "test_msg_counts = bow.transform(test_msgs)\n",
    "\n",
    "classifications = DT3.predict_proba(test_msg_counts)\n",
    "emotion = DT3.predict(test_msg_counts)\n",
    "\n",
    "print(\"emosi\",emotion)\n",
    "classifications\n"
   ]
  },
  {
   "cell_type": "code",
   "execution_count": 45,
   "id": "1f3af86a",
   "metadata": {},
   "outputs": [
    {
     "name": "stdout",
     "output_type": "stream",
     "text": [
      "emosi ['happy']\n"
     ]
    },
    {
     "data": {
      "text/plain": [
       "array([[0.27068215, 0.12119013, 0.29535559, 0.095791  , 0.21698113]])"
      ]
     },
     "execution_count": 45,
     "metadata": {},
     "output_type": "execute_result"
    }
   ],
   "source": [
    "test_msgs = [\"Cintailah kekasihmu seperti dia mencintai mu dulu, seperti dia mencintai dengan tulus. Seseorang akan setia pada pasangannya karena cinta suami yang begitu besar pada ibu dan kalian berdua.\"]\n",
    "test_msg_counts = bigram.transform(test_msgs)\n",
    "\n",
    "classifications = DT4.predict_proba(test_msg_counts)\n",
    "emotion = DT4.predict(test_msg_counts)\n",
    "\n",
    "print(\"emosi\",emotion)\n",
    "classifications\n"
   ]
  },
  {
   "cell_type": "code",
   "execution_count": null,
   "id": "47203ea5",
   "metadata": {},
   "outputs": [],
   "source": []
  }
 ],
 "metadata": {
  "kernelspec": {
   "display_name": "Python 3",
   "language": "python",
   "name": "python3"
  },
  "language_info": {
   "codemirror_mode": {
    "name": "ipython",
    "version": 3
   },
   "file_extension": ".py",
   "mimetype": "text/x-python",
   "name": "python",
   "nbconvert_exporter": "python",
   "pygments_lexer": "ipython3",
   "version": "3.8.8"
  }
 },
 "nbformat": 4,
 "nbformat_minor": 5
}
